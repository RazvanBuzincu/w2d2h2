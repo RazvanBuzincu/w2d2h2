{
 "cells": [
  {
   "cell_type": "markdown",
   "metadata": {},
   "source": [
    "# Functions, Scoping, Data Collections 1 & List Comprehensions"
   ]
  },
  {
   "cell_type": "markdown",
   "metadata": {},
   "source": [
    "## Tasks Today:\n",
    "\n",
    "<i>Monday Additions (for loops)</i>\n",
    "\n",
    "1) For Loops <br>\n",
    " &nbsp;&nbsp;&nbsp;&nbsp; a) Using 'in' keyword <br>\n",
    " &nbsp;&nbsp;&nbsp;&nbsp; b) Continue Statement <br>\n",
    " &nbsp;&nbsp;&nbsp;&nbsp; c) Break Statement <br>\n",
    " &nbsp;&nbsp;&nbsp;&nbsp; d) Pass Statement <br>\n",
    " &nbsp;&nbsp;&nbsp;&nbsp; e) Double For Loops <br>\n",
    "2) While Loops <br>\n",
    " &nbsp;&nbsp;&nbsp;&nbsp; a) Looping 'While True' <br>\n",
    " &nbsp;&nbsp;&nbsp;&nbsp; b) While and For Loops Used Together <br>\n",
    " \n",
    "3) Lists <br>\n",
    " &nbsp;&nbsp;&nbsp;&nbsp; a) Declaring Lists <br>\n",
    " &nbsp;&nbsp;&nbsp;&nbsp; b) Indexing a List <br>\n",
    " &nbsp;&nbsp;&nbsp;&nbsp; c) .append() <br>\n",
    " &nbsp;&nbsp;&nbsp;&nbsp; d) .insert() <br>\n",
    " &nbsp;&nbsp;&nbsp;&nbsp; e) .pop() <br>\n",
    " &nbsp;&nbsp;&nbsp;&nbsp; f) .remove() <br>\n",
    " &nbsp;&nbsp;&nbsp;&nbsp; g) del() <br>\n",
    " &nbsp;&nbsp;&nbsp;&nbsp; h) Concatenating Two Lists <br>\n",
    " &nbsp;&nbsp;&nbsp;&nbsp; i) Lists Within Lists <br>\n",
    " &nbsp;&nbsp;&nbsp;&nbsp; j) Looping Through Lists <br>\n",
    "4) Working With Lists <br>\n",
    " &nbsp;&nbsp;&nbsp;&nbsp; a) min() <br>\n",
    " &nbsp;&nbsp;&nbsp;&nbsp; b) max() <br>\n",
    " &nbsp;&nbsp;&nbsp;&nbsp; c) sum() <br>\n",
    " &nbsp;&nbsp;&nbsp;&nbsp; d) sort() <br>\n",
    " &nbsp;&nbsp;&nbsp;&nbsp; e) Copying a List <br>\n",
    " &nbsp;&nbsp;&nbsp;&nbsp; f) 'in' keyword <br>\n",
    " &nbsp;&nbsp;&nbsp;&nbsp; g) 'not in' keyword <br>\n",
    " &nbsp;&nbsp;&nbsp;&nbsp; i) Checking an Empty List <br>\n",
    " &nbsp;&nbsp;&nbsp;&nbsp; j) Removing Instances with a Loop <br> \n",
    "5) List Comprehensions <br>\n",
    "6) Tuples <br>\n",
    " &nbsp;&nbsp;&nbsp;&nbsp; a) sorted() <br>\n"
   ]
  },
  {
   "cell_type": "markdown",
   "metadata": {},
   "source": [
    "### For Loops"
   ]
  },
  {
   "cell_type": "code",
   "execution_count": 16,
   "metadata": {},
   "outputs": [
    {
     "name": "stdout",
     "output_type": "stream",
     "text": [
      "12\n",
      "R\n",
      "y\n",
      "a\n",
      "n\n",
      " \n",
      "R\n",
      "h\n",
      "o\n",
      "a\n",
      "d\n",
      "e\n",
      "s\n"
     ]
    }
   ],
   "source": [
    "# for keyword, counter/iterator variable, in keyword, object\n",
    "\n",
    "name = \"Ryan Rhoades\"\n",
    "\n",
    "# for keyword iterator variable, in keyword the thing were looping through\n",
    "#for letter in name:\n",
    "   # print(letter)\n",
    "\n",
    "# number = 123456\n",
    "\n",
    "#for num in number:\n",
    "#   print(num)\n",
    "# we cant iterate through integers\n",
    "\n",
    "# range()\n",
    "# length()\n",
    "\n",
    "print(len(name))\n",
    "\n",
    "\n",
    "# looping by index\n",
    "#for keyword, iteratoe variable, in keyword range(len(object))\n",
    "\n",
    "for i in range(len(name)):\n",
    "    print(name[i])\n",
    "\n",
    "#print(name[0])\n",
    "\n",
    "\n",
    "\n",
    "\n",
    "    \n"
   ]
  },
  {
   "cell_type": "code",
   "execution_count": 20,
   "metadata": {},
   "outputs": [
    {
     "name": "stdout",
     "output_type": "stream",
     "text": [
      "0 R\n",
      "1 y\n",
      "2 a\n",
      "3 n\n",
      "4  \n",
      "5 R\n",
      "6 h\n",
      "7 o\n",
      "8 a\n",
      "9 d\n",
      "10 e\n",
      "11 s\n"
     ]
    }
   ],
   "source": [
    "# enumerate()\n",
    "\n",
    "name = \"Ryan Rhoades\"\n",
    "\n",
    "for i, value in enumerate(name):\n",
    "    print(i, value)\n",
    "\n"
   ]
  },
  {
   "cell_type": "code",
   "execution_count": 15,
   "metadata": {},
   "outputs": [
    {
     "name": "stdout",
     "output_type": "stream",
     "text": [
      "4\n",
      "6\n",
      "6\n"
     ]
    }
   ],
   "source": [
    "name2 = \"Alex\"\n",
    "name3 = \"Justin\"\n",
    "name4 = \"Razvan\"\n",
    "\n",
    "print(len(name2))\n",
    "print(len(name3))\n",
    "print(len(name4))"
   ]
  },
  {
   "cell_type": "markdown",
   "metadata": {},
   "source": [
    "##### Using 'in' keyword"
   ]
  },
  {
   "cell_type": "code",
   "execution_count": 21,
   "metadata": {},
   "outputs": [
    {
     "name": "stdout",
     "output_type": "stream",
     "text": [
      "0\n",
      "1\n",
      "4\n",
      "9\n",
      "16\n",
      "25\n",
      "36\n",
      "49\n",
      "64\n",
      "81\n",
      "100\n",
      "121\n",
      "144\n",
      "169\n",
      "196\n"
     ]
    }
   ],
   "source": [
    "#in is what accesses the items in an iterable\n",
    "\n",
    "for num in range(15):\n",
    "    print(num**2)\n"
   ]
  },
  {
   "cell_type": "code",
   "execution_count": 27,
   "metadata": {},
   "outputs": [
    {
     "name": "stdout",
     "output_type": "stream",
     "text": [
      "yay its here\n"
     ]
    }
   ],
   "source": [
    "name = \"mega man\"\n",
    "if \"g\" in  name:\n",
    "    print(\"yay its here\")\n",
    "else:\n",
    "    print(\"its not here\")"
   ]
  },
  {
   "cell_type": "markdown",
   "metadata": {},
   "source": [
    "##### Continue Statement"
   ]
  },
  {
   "cell_type": "code",
   "execution_count": 30,
   "metadata": {},
   "outputs": [
    {
     "name": "stdout",
     "output_type": "stream",
     "text": [
      "0\n",
      "1\n",
      "2\n",
      "3\n",
      "4\n",
      "7\n",
      "8\n",
      "9\n",
      "10\n",
      "11\n",
      "12\n",
      "13\n",
      "14\n",
      "15\n",
      "16\n",
      "17\n",
      "18\n",
      "19\n"
     ]
    }
   ],
   "source": [
    "#continue\n",
    "#for num in range(20):\n",
    "   # print(num)\n",
    "\n",
    "# continue on to the next iteration\n",
    "for i in range(20):\n",
    "    if i == 5 or i ==6:\n",
    "        continue\n",
    "    print(i)\n",
    "\n"
   ]
  },
  {
   "cell_type": "markdown",
   "metadata": {},
   "source": [
    "##### Break Statement"
   ]
  },
  {
   "cell_type": "code",
   "execution_count": 34,
   "metadata": {},
   "outputs": [
    {
     "name": "stdout",
     "output_type": "stream",
     "text": [
      "0\n",
      "1\n",
      "2\n",
      "3\n",
      "4\n",
      "5\n",
      "6\n",
      "7\n",
      "8\n",
      "9\n",
      "\n",
      "\n",
      "0\n",
      "1\n",
      "2\n",
      "3\n",
      "4\n",
      "5\n",
      "6\n"
     ]
    }
   ],
   "source": [
    "# will break out of current loop\n",
    "# we use break as part of a condition\n",
    "for num in range (10):\n",
    "    print(num)\n",
    "print(\"\\n\")\n",
    "\n",
    "# using the break keyword with a condition\n",
    "for num in range(10):\n",
    "    if num == 7:\n",
    "        break\n",
    "    print(num)\n",
    "\n"
   ]
  },
  {
   "cell_type": "markdown",
   "metadata": {},
   "source": [
    "##### Pass Statement"
   ]
  },
  {
   "cell_type": "code",
   "execution_count": 35,
   "metadata": {},
   "outputs": [],
   "source": [
    "# mostly used as a placeholder, and will continue on same iteration\n",
    "for i in range(20):\n",
    "    pass\n",
    "\n",
    "def my_func():\n",
    "    pass\n",
    "\n",
    "    "
   ]
  },
  {
   "cell_type": "code",
   "execution_count": 55,
   "metadata": {},
   "outputs": [
    {
     "name": "stdout",
     "output_type": "stream",
     "text": [
      "Y\n",
      "u\n",
      "g\n",
      "i\n",
      " \n",
      "M\n",
      "o\n",
      "t\n",
      "o\n",
      "Y\n",
      "u\n",
      "g\n",
      "i\n",
      " \n",
      "M\n",
      "o\n",
      "t\n",
      "o\n",
      "Y\n",
      "u\n",
      "g\n",
      "i\n",
      " \n",
      "M\n",
      "o\n",
      "t\n",
      "o\n"
     ]
    }
   ],
   "source": [
    "cool_person = \"Yugi Moto\"\n",
    "# loop through cool_person using three for loops we talked about earlier\n",
    "# loop by value\n",
    "# loop by index\n",
    "# loop with enumerate\n",
    "#\"\"\"\n",
    "#output:\n",
    "#Y\n",
    "#u\n",
    "#g\n",
    "#i\n",
    "#\n",
    "#M\n",
    "#o\n",
    "#t\n",
    "#o\n",
    "#\n",
    "#\"\"\"\n",
    "\n",
    "# enumerate\n",
    "for i, value in enumerate(cool_person):\n",
    "    print(value)\n",
    "\n",
    "#loop by index\n",
    "for i in range(len(cool_person)):\n",
    "    print(cool_person[i])\n",
    "\n",
    "# value\n",
    "for letter in cool_person:\n",
    "    print(letter)\n",
    "\n",
    "\n",
    "\n",
    "\n"
   ]
  },
  {
   "cell_type": "markdown",
   "metadata": {},
   "source": [
    "##### Double For Loops"
   ]
  },
  {
   "cell_type": "code",
   "execution_count": 57,
   "metadata": {},
   "outputs": [
    {
     "name": "stdout",
     "output_type": "stream",
     "text": [
      "\n",
      "\n",
      "i =  0 j =  0\n",
      "i =  0 j =  1\n",
      "i =  0 j =  2\n",
      "i =  0 j =  3\n",
      "i =  0 j =  4\n",
      "\n",
      "\n",
      "i =  1 j =  0\n",
      "i =  1 j =  1\n",
      "i =  1 j =  2\n",
      "i =  1 j =  3\n",
      "i =  1 j =  4\n",
      "\n",
      "\n",
      "i =  2 j =  0\n",
      "i =  2 j =  1\n",
      "i =  2 j =  2\n",
      "i =  2 j =  3\n",
      "i =  2 j =  4\n",
      "\n",
      "\n",
      "i =  3 j =  0\n",
      "i =  3 j =  1\n",
      "i =  3 j =  2\n",
      "i =  3 j =  3\n",
      "i =  3 j =  4\n",
      "\n",
      "\n",
      "i =  4 j =  0\n",
      "i =  4 j =  1\n",
      "i =  4 j =  2\n",
      "i =  4 j =  3\n",
      "i =  4 j =  4\n"
     ]
    }
   ],
   "source": [
    "for i in range(5):\n",
    "    print(\"\\n\")\n",
    "    for j in range(5):\n",
    "        print(\"i = \", i, \"j = \", j)"
   ]
  },
  {
   "cell_type": "code",
   "execution_count": 60,
   "metadata": {},
   "outputs": [
    {
     "name": "stdout",
     "output_type": "stream",
     "text": [
      "d\n",
      "g\n",
      "o\n",
      "o\n",
      "s\n",
      "e\n",
      "u\n",
      "g\n",
      "o\n",
      "o\n",
      "s\n",
      "e\n",
      "c\n",
      "g\n",
      "o\n",
      "o\n",
      "s\n",
      "e\n",
      "k\n",
      "g\n",
      "o\n",
      "o\n",
      "s\n",
      "e\n"
     ]
    }
   ],
   "source": [
    "name = \"duck\"\n",
    "name2 = \"goose\"\n",
    "\n",
    "for char in name:\n",
    "    print(char)\n",
    "    for char2 in name2:\n",
    "        print(char2)\n",
    "      "
   ]
  },
  {
   "cell_type": "markdown",
   "metadata": {},
   "source": [
    "### While Loops"
   ]
  },
  {
   "cell_type": "code",
   "execution_count": 72,
   "metadata": {},
   "outputs": [
    {
     "name": "stdout",
     "output_type": "stream",
     "text": [
      "0\n",
      "1\n",
      "2\n",
      "3\n",
      "4\n",
      "5\n",
      "6\n",
      "7\n",
      "8\n",
      "9\n",
      "10\n",
      "\n",
      "\n",
      "0\n",
      "1\n",
      "4\n",
      "9\n",
      "16\n",
      "25\n",
      "36\n",
      "49\n",
      "64\n",
      "81\n",
      "100\n",
      "121\n",
      "144\n",
      "169\n",
      "196\n"
     ]
    }
   ],
   "source": [
    "#while keyword, condition statement\n",
    "#while loop will run based on the condition statement\n",
    "\n",
    "counter = 0 \n",
    "while counter < 11:\n",
    "    print(counter)\n",
    "    counter += 1   \n",
    "\n",
    "print(\"\\n\")\n",
    "\n",
    "num = 0\n",
    "while num < 15:\n",
    "    print(num**2)\n",
    "    num += 1\n",
    "\n"
   ]
  },
  {
   "cell_type": "markdown",
   "metadata": {},
   "source": [
    "##### looping 'While True'"
   ]
  },
  {
   "cell_type": "code",
   "execution_count": 73,
   "metadata": {},
   "outputs": [
    {
     "name": "stdout",
     "output_type": "stream",
     "text": [
      "infinite loop\n"
     ]
    }
   ],
   "source": [
    "# true as a condition for while loop to run\n",
    "game_over = False\n",
    "while True:\n",
    "    print(\"infinite loop\")\n",
    "    if game_over == False:\n",
    "        break\n"
   ]
  },
  {
   "cell_type": "code",
   "execution_count": 75,
   "metadata": {},
   "outputs": [
    {
     "name": "stdin",
     "output_type": "stream",
     "text": [
      "what is your name? marcel\n"
     ]
    },
    {
     "name": "stdout",
     "output_type": "stream",
     "text": [
      "marcel\n"
     ]
    },
    {
     "name": "stdin",
     "output_type": "stream",
     "text": [
      "what is your name? quit\n"
     ]
    },
    {
     "name": "stdout",
     "output_type": "stream",
     "text": [
      "bye bye\n"
     ]
    }
   ],
   "source": [
    "# while loop with while True with user input\n",
    "# the loop will break when the user enters quit\n",
    "while True:\n",
    "    name = input(\"what is your name?\")\n",
    "    if name == \"quit\":\n",
    "        print(\"bye bye\")\n",
    "        break\n",
    "    print(name)"
   ]
  },
  {
   "cell_type": "code",
   "execution_count": 78,
   "metadata": {},
   "outputs": [
    {
     "name": "stdout",
     "output_type": "stream",
     "text": [
      "1\n",
      "2\n",
      "3\n",
      "4\n"
     ]
    }
   ],
   "source": [
    "game = True\n",
    "\n",
    "my_list = [1, 2, 3, 4, 5, 6]\n",
    "index = 0\n",
    "while game: # while True because game == True\n",
    "    if my_list[index] == 4:\n",
    "        game = False\n",
    "    print(my_list[index])\n",
    "    index += 1"
   ]
  },
  {
   "cell_type": "markdown",
   "metadata": {},
   "source": [
    "##### While & For Loops Used Together"
   ]
  },
  {
   "cell_type": "code",
   "execution_count": 86,
   "metadata": {},
   "outputs": [
    {
     "name": "stdout",
     "output_type": "stream",
     "text": [
      "\n",
      " While Loop Iterations 0\n",
      "For Loop Iteration 0\n",
      "For Loop Iteration 1\n",
      "\n",
      " While Loop Iterations 1\n",
      "For Loop Iteration 0\n",
      "For Loop Iteration 1\n",
      "\n",
      " While Loop Iterations 2\n",
      "For Loop Iteration 0\n",
      "For Loop Iteration 1\n",
      "\n",
      " While Loop Iterations 3\n",
      "For Loop Iteration 0\n",
      "For Loop Iteration 1\n",
      "\n",
      " While Loop Iterations 4\n",
      "For Loop Iteration 0\n",
      "For Loop Iteration 1\n",
      "\n",
      " While Loop Iterations 5\n",
      "For Loop Iteration 0\n",
      "For Loop Iteration 1\n",
      "\n",
      " While Loop Iterations 6\n",
      "For Loop Iteration 0\n",
      "For Loop Iteration 1\n",
      "\n",
      " While Loop Iterations 7\n",
      "For Loop Iteration 0\n",
      "For Loop Iteration 1\n",
      "\n",
      " While Loop Iterations 8\n",
      "For Loop Iteration 0\n",
      "For Loop Iteration 1\n",
      "\n",
      " While Loop Iterations 9\n",
      "For Loop Iteration 0\n",
      "For Loop Iteration 1\n"
     ]
    }
   ],
   "source": [
    "j = 0\n",
    "\n",
    "while j < 10:\n",
    "    print(\"\\n While Loop Iterations\", j)\n",
    "\n",
    "    for i in range (2):\n",
    "        print(\"For Loop Iteration\", i)\n",
    "\n",
    "    j += 1"
   ]
  },
  {
   "cell_type": "markdown",
   "metadata": {},
   "source": [
    "##### The Range Function"
   ]
  },
  {
   "cell_type": "code",
   "execution_count": 90,
   "metadata": {},
   "outputs": [
    {
     "name": "stdout",
     "output_type": "stream",
     "text": [
      "0\n",
      "1\n",
      "2\n",
      "3\n",
      "4\n",
      "5\n",
      "6\n",
      "7\n",
      "8\n",
      "9\n",
      "\n",
      "\n",
      "1\n",
      "2\n",
      "3\n",
      "4\n",
      "5\n",
      "6\n",
      "7\n",
      "8\n",
      "9\n",
      "\n",
      "\n",
      "1\n",
      "3\n",
      "5\n",
      "7\n",
      "9\n"
     ]
    }
   ],
   "source": [
    "# range(start, stop, step) - stop is required and start defaults to 0 if none is given\n",
    "#             stop\n",
    "\n",
    "for num in range(10):\n",
    "    print(num)\n",
    "print(\"\\n\")\n",
    "#               start, stop\n",
    "for num in range(1, 10):\n",
    "    print(num)\n",
    "print(\"\\n\")\n",
    "#                start stop step\n",
    "for num in range(1, 10, 2):\n",
    "    print(num)"
   ]
  },
  {
   "cell_type": "markdown",
   "metadata": {},
   "source": [
    "### String Manipulation Exercise"
   ]
  },
  {
   "cell_type": "code",
   "execution_count": 95,
   "metadata": {},
   "outputs": [
    {
     "name": "stdout",
     "output_type": "stream",
     "text": [
      "Connor\n",
      "Max\n",
      "Evan\n",
      "Jordan\n"
     ]
    }
   ],
   "source": [
    "# looping through a list\n",
    "#my_names = [\"Ryan\", \"Alex\", \"Justin\", \"Razvan\"]\n",
    "#for name in my_names:\n",
    "   # print(name)\n",
    "\n",
    "names = ['    coNNor', 'max', ' EVan ', 'JORDAN']\n",
    "# HINT: You will need to use a for loop for iteration\n",
    "# Loop through the names list, remove white space and capitalize the first letter of each name. Print each new name.\n",
    "\n",
    "for name in names:\n",
    "    stripname = name.strip().title()\n",
    "    print(stripname)"
   ]
  },
  {
   "cell_type": "code",
   "execution_count": 98,
   "metadata": {},
   "outputs": [
    {
     "name": "stdout",
     "output_type": "stream",
     "text": [
      "['Connor', 'Max', 'Evan', 'Jordan']\n"
     ]
    }
   ],
   "source": [
    "clean_names = []\n",
    "for name in names:\n",
    "    clean_names.append(name.strip().title())\n",
    "    \n",
    "print(clean_names)"
   ]
  },
  {
   "cell_type": "markdown",
   "metadata": {},
   "source": [
    "## Lists"
   ]
  },
  {
   "cell_type": "markdown",
   "metadata": {},
   "source": [
    "##### Declaring Lists"
   ]
  },
  {
   "cell_type": "code",
   "execution_count": 100,
   "metadata": {},
   "outputs": [
    {
     "name": "stdout",
     "output_type": "stream",
     "text": [
      "['Ryan', 'Alex', 'Liz', 'William']\n",
      "['Dog', 2, [1, 2, 3, 4], 'person']\n"
     ]
    }
   ],
   "source": [
    "our_list = []  # <---- empty list\n",
    "\n",
    "names = [\"Ryan\", \"Alex\", \"Liz\", \"William\", \"Razvan\"]\n",
    "numbers = [1, 2, 3, 4, 5, 6]\n",
    "things = [\"Dog\", 2, [1,2,3,4], \"person\"]\n",
    "print(names)\n",
    "print(things)"
   ]
  },
  {
   "cell_type": "markdown",
   "metadata": {},
   "source": [
    "##### Indexing a List"
   ]
  },
  {
   "cell_type": "code",
   "execution_count": 108,
   "metadata": {},
   "outputs": [
    {
     "name": "stdout",
     "output_type": "stream",
     "text": [
      "William\n",
      "Razvan\n",
      "['Alex', 'Liz', 'William', 'Razvan']\n",
      "['Ryan', 'Alex', 'Liz']\n",
      "['Alex', 'William']\n",
      "['Razvan', 'William', 'Liz', 'Alex', 'Ryan']\n",
      "['Razvan', 'William', 'Liz', 'Alex', 'Ryan']\n"
     ]
    }
   ],
   "source": [
    "# [start: stop: step] --> last item [-1]\n",
    "#           0      1       2       3          4\n",
    "names = [\"Ryan\", \"Alex\", \"Liz\", \"William\", \"Razvan\"]\n",
    "print(names[3])\n",
    "# regardless of list lenght, -1 will always be the last index (position)\n",
    "print(names[-1])\n",
    "# LIST SLICING\n",
    "# print a portion of list starting at index 1 and going to the end of the list\n",
    "print(names[1:])\n",
    "#print starting at the begining of the list and go to a specified index\n",
    "print(names[:3])\n",
    "# stepping through list by 2\n",
    "print(names[1::2])\n",
    "# print stepping backwards through the list\n",
    "print(names[::-1])\n",
    "\n",
    "reversed_names = names[::-1]\n",
    "print(reversed_names)\n"
   ]
  },
  {
   "cell_type": "markdown",
   "metadata": {},
   "source": [
    "### List Methods"
   ]
  },
  {
   "cell_type": "markdown",
   "metadata": {},
   "source": [
    "##### .append()"
   ]
  },
  {
   "cell_type": "code",
   "execution_count": 110,
   "metadata": {},
   "outputs": [
    {
     "name": "stdout",
     "output_type": "stream",
     "text": [
      "['Ryan', 'Alex', 'Liz', 'William', 'Razvan', 'Rachel']\n",
      "['Ryan', 'Alex', 'Liz', 'William', 'Razvan', 'Rachel', 'Mo']\n"
     ]
    }
   ],
   "source": [
    "# list.append(thing youre appending) , append will always add to the back of the list\n",
    "names = [\"Ryan\", \"Alex\", \"Liz\", \"William\", \"Razvan\"]\n",
    "names.append(\"Rachel\")\n",
    "print(names)\n",
    "\n",
    "names.append(\"Mo\")\n",
    "print(names)\n"
   ]
  },
  {
   "cell_type": "markdown",
   "metadata": {},
   "source": [
    "##### .insert()"
   ]
  },
  {
   "cell_type": "code",
   "execution_count": 112,
   "metadata": {},
   "outputs": [
    {
     "name": "stdout",
     "output_type": "stream",
     "text": [
      "['Ryan', 'Morgan', 'Morgan', 'Alex', 'Liz', 'William', 'Razvan', 'Rachel', 'Mo']\n",
      "['Ryan', 'Morgan', 'Morgan', 'Jeiavonni', 'Alex', 'Liz', 'William', 'Razvan', 'Rachel', 'Mo']\n"
     ]
    }
   ],
   "source": [
    "#our_list.insert(index, value)\n",
    "\n",
    "names.insert(1, \"Morgan\")\n",
    "print(names)\n",
    "\n",
    "names.insert(3, \"Jeiavonni\")\n",
    "print(names)\n",
    "\n"
   ]
  },
  {
   "cell_type": "markdown",
   "metadata": {},
   "source": [
    "##### .pop()"
   ]
  },
  {
   "cell_type": "code",
   "execution_count": 113,
   "metadata": {},
   "outputs": [
    {
     "name": "stdout",
     "output_type": "stream",
     "text": [
      "['Ryan', 'Morgan', 'Morgan', 'Jeiavonni', 'Alex', 'William', 'Razvan', 'Rachel', 'Mo']\n"
     ]
    }
   ],
   "source": [
    "# list.pop(optional index to pop out)\n",
    "# default is the last value if no parameter is given\n",
    "# pop returns the element that was removed in case you want to assign it into a variable\n",
    "\n",
    "names.pop(5)\n",
    "print(names)\n",
    "\n",
    "\n",
    "\n"
   ]
  },
  {
   "cell_type": "markdown",
   "metadata": {},
   "source": [
    "##### .remove()"
   ]
  },
  {
   "cell_type": "code",
   "execution_count": 115,
   "metadata": {},
   "outputs": [
    {
     "name": "stdout",
     "output_type": "stream",
     "text": [
      "['Ryan', 'Morgan', 'Morgan', 'Jeiavonni', 'Alex', 'William', 'Razvan', 'Rachel', 'Mo']\n",
      "['Morgan', 'Morgan', 'Jeiavonni', 'Alex', 'William', 'Razvan', 'Rachel', 'Mo']\n"
     ]
    }
   ],
   "source": [
    "# list.remove(thing to be removed)\n",
    "# value to be removed, not an index\n",
    "print(names)\n",
    "names.remove(\"Ryan\")\n",
    "print(names)\n",
    "\n"
   ]
  },
  {
   "cell_type": "markdown",
   "metadata": {},
   "source": [
    "### Working With Lists"
   ]
  },
  {
   "cell_type": "markdown",
   "metadata": {},
   "source": [
    "##### del()"
   ]
  },
  {
   "cell_type": "code",
   "execution_count": 117,
   "metadata": {},
   "outputs": [
    {
     "name": "stdout",
     "output_type": "stream",
     "text": [
      "['Morgan', 'Morgan', 'Jeiavonni', 'Alex', 'William', 'Razvan', 'Rachel', 'Mo']\n",
      "['Morgan', 'Jeiavonni', 'Alex', 'William', 'Razvan', 'Rachel', 'Mo']\n"
     ]
    }
   ],
   "source": [
    "# index to be removed, not value \n",
    "print(names)\n",
    "del names[1]\n",
    "print(names)\n",
    "\n",
    "\n"
   ]
  },
  {
   "cell_type": "markdown",
   "metadata": {},
   "source": [
    "##### min()"
   ]
  },
  {
   "cell_type": "code",
   "execution_count": 119,
   "metadata": {},
   "outputs": [
    {
     "name": "stdout",
     "output_type": "stream",
     "text": [
      "1\n",
      "Alex\n"
     ]
    }
   ],
   "source": [
    "# return the smallest item in a list\n",
    "numbers = [2, 5, 1, 6, 47, 12]\n",
    "print(min(numbers))\n",
    "names = [\"Ryan\", \"Alex\", \"Liz\", \"William\", \"Razvan\"]\n",
    "print(min(names))"
   ]
  },
  {
   "cell_type": "markdown",
   "metadata": {},
   "source": [
    "##### max()"
   ]
  },
  {
   "cell_type": "code",
   "execution_count": 121,
   "metadata": {},
   "outputs": [
    {
     "name": "stdout",
     "output_type": "stream",
     "text": [
      "47\n",
      "William\n"
     ]
    }
   ],
   "source": [
    "# returns largest item in a list\n",
    "numbers = [2, 5, 1, 6, 47, 12]\n",
    "print(max(numbers))\n",
    "names = [\"Ryan\", \"Alex\", \"Liz\", \"William\", \"Razvan\"]\n",
    "print(max(names))\n"
   ]
  },
  {
   "cell_type": "markdown",
   "metadata": {},
   "source": [
    "##### sum()"
   ]
  },
  {
   "cell_type": "code",
   "execution_count": 122,
   "metadata": {},
   "outputs": [
    {
     "name": "stdout",
     "output_type": "stream",
     "text": [
      "73\n"
     ]
    }
   ],
   "source": [
    "# return the sum of all numbers in a list\n",
    "numbers = [2, 5, 1, 6, 47, 12]\n",
    "print(sum(numbers))\n",
    "\n",
    "\n"
   ]
  },
  {
   "cell_type": "markdown",
   "metadata": {},
   "source": [
    "##### sorted()"
   ]
  },
  {
   "cell_type": "code",
   "execution_count": 129,
   "metadata": {},
   "outputs": [
    {
     "name": "stdout",
     "output_type": "stream",
     "text": [
      "[1, 2, 5, 6, 12, 47]\n",
      "[1, 2, 5, 6, 12, 47]\n",
      "['Alex', 'Liz', 'Ryan', 'William', 'razvan']\n"
     ]
    }
   ],
   "source": [
    "#sorted will return a new sorted list, create a new variable\n",
    "numbers = [2, 5, 1, 6, 47, 12]\n",
    "print(sorted(numbers))\n",
    "sorted_nums = sorted(numbers)\n",
    "print(sorted_nums)\n",
    "names = [\"Ryan\", \"Alex\", \"Liz\", \"William\", \"razvan\"]\n",
    "print(sorted(names))\n"
   ]
  },
  {
   "cell_type": "markdown",
   "metadata": {},
   "source": [
    "##### .sort() <br>\n",
    "<p>Difference between sort and sorted, is that sorted doesn't change original list it returns a copy, while .sort changes the original list</p>"
   ]
  },
  {
   "cell_type": "code",
   "execution_count": 127,
   "metadata": {},
   "outputs": [
    {
     "name": "stdout",
     "output_type": "stream",
     "text": [
      "[1, 2, 5, 6, 12, 47]\n"
     ]
    }
   ],
   "source": [
    "#.sort() will sort the original list\n",
    "numbers = [2, 5, 1, 6, 47, 12]\n",
    "sorted_nums = numbers.sort()\n",
    "#print(sorted_nums)\n",
    "print(numbers)"
   ]
  },
  {
   "cell_type": "markdown",
   "metadata": {},
   "source": [
    "##### Copying a List"
   ]
  },
  {
   "cell_type": "code",
   "execution_count": 131,
   "metadata": {},
   "outputs": [
    {
     "name": "stdout",
     "output_type": "stream",
     "text": [
      "['Ryan', 'Alex', 'Liz', 'William', 'Razvan']\n",
      "['Ryan', 'Alex', 'Liz', 'William', 'Razvan']\n"
     ]
    }
   ],
   "source": [
    "# [:] copies a list, doesn't alter original'\n",
    "names = [\"Ryan\", \"Alex\", \"Liz\", \"William\", \"Razvan\"]\n",
    "print(names[:])\n",
    "names_copy = names[:]\n",
    "print(names_copy)\n"
   ]
  },
  {
   "cell_type": "markdown",
   "metadata": {},
   "source": [
    "##### Looping Through Lists"
   ]
  },
  {
   "cell_type": "code",
   "execution_count": 134,
   "metadata": {},
   "outputs": [
    {
     "name": "stdout",
     "output_type": "stream",
     "text": [
      "0 Han Solo\n",
      "1 Leia Organa\n",
      "2 Luke Skywalker\n",
      "3 Lando Calrissian\n",
      "4 Mace Windu\n",
      "Han Solo\n",
      "Leia Organa\n",
      "Luke Skywalker\n",
      "Lando Calrissian\n",
      "Mace Windu\n",
      "Han Solo\n",
      "Leia Organa\n",
      "Luke Skywalker\n",
      "Lando Calrissian\n",
      "Mace Windu\n"
     ]
    }
   ],
   "source": [
    "#Two ways to loop through a list. one is by index and the other is by value, using the \"in\" keyword\n",
    "names = [\"Han Solo\", \"Leia Organa\", \"Luke Skywalker\", \"Lando Calrissian\", \"Mace Windu\"]\n",
    "\n",
    "# looping by enumerate\n",
    "for i, n in enumerate(names):\n",
    "    print(i, n)\n",
    "\n",
    "# looping by index\n",
    "for i in range(len(names)):\n",
    "    print(names[i])\n",
    "\n",
    "#looping by value\n",
    "for name in names:\n",
    "    print(name)"
   ]
  },
  {
   "cell_type": "markdown",
   "metadata": {},
   "source": [
    "##### 'in' keyword"
   ]
  },
  {
   "cell_type": "code",
   "execution_count": 138,
   "metadata": {},
   "outputs": [
    {
     "name": "stdout",
     "output_type": "stream",
     "text": [
      "yay Liz\n"
     ]
    }
   ],
   "source": [
    "names = [\"Ryan\", \"Alex\", \"Liz\", \"William\", \"Razvan\"]\n",
    "\n",
    "if \"Liz\" in names:\n",
    "    print(\"yay Liz\")\n",
    "else:\n",
    "    print(\"boo no Liz\")\n",
    "\n"
   ]
  },
  {
   "cell_type": "markdown",
   "metadata": {},
   "source": [
    "##### 'not in' keyword"
   ]
  },
  {
   "cell_type": "code",
   "execution_count": 139,
   "metadata": {},
   "outputs": [
    {
     "name": "stdout",
     "output_type": "stream",
     "text": [
      "no frederick\n"
     ]
    }
   ],
   "source": [
    "names = [\"Ryan\", \"Alex\", \"Liz\", \"William\", \"Razvan\"]\n",
    "\n",
    "if \"Frederick\" not in names:\n",
    "    print(\"no frederick\")\n",
    "else:\n",
    "    print(\"yes frederick\")\n"
   ]
  },
  {
   "cell_type": "markdown",
   "metadata": {},
   "source": [
    "##### Checking an Empty List"
   ]
  },
  {
   "cell_type": "code",
   "execution_count": 146,
   "metadata": {},
   "outputs": [
    {
     "name": "stdout",
     "output_type": "stream",
     "text": [
      "that list is empty\n",
      "no\n",
      "this list doesnt have stuff\n"
     ]
    }
   ],
   "source": [
    "l_2 = []\n",
    "l_3 = None\n",
    "if l_2  == []:\n",
    "    print(\"that list is empty\")\n",
    "\n",
    "if l_2 == l_3:\n",
    "    print(\"yes\")\n",
    "else:\n",
    "    print(\"no\")\n",
    "\n",
    "if l_2:\n",
    "    print(\"this list has stuff\")\n",
    "else:\n",
    "    print(\"this list doesnt have stuff\")"
   ]
  },
  {
   "cell_type": "markdown",
   "metadata": {},
   "source": [
    "##### Removing Instances with a Loop"
   ]
  },
  {
   "cell_type": "code",
   "execution_count": 149,
   "metadata": {},
   "outputs": [
    {
     "name": "stdout",
     "output_type": "stream",
     "text": [
      "['Ryan', 'Alex', 'Liz', 'William', 'Razvan']\n",
      "['Ryan', 'Liz', 'William', 'Razvan']\n"
     ]
    }
   ],
   "source": [
    "#while, remove\n",
    "names = [\"Ryan\", \"Alex\", \"Alex\", \"Liz\", \"William\", \"Razvan\"]\n",
    "for name in names:\n",
    "    if name == \"Alex\":\n",
    "        names.remove(name)\n",
    "print(names)\n",
    "\n",
    "# using while loop with remove\n",
    "while \"Alex\" in names:\n",
    "    names.remove(\"Alex\")\n",
    "print(names)"
   ]
  },
  {
   "cell_type": "markdown",
   "metadata": {},
   "source": [
    "### List Exercise <br>\n",
    "<p>Remove all duplicates<br><b>Extra: Create a program that will remove any duplicates from a given list</b></p>"
   ]
  },
  {
   "cell_type": "code",
   "execution_count": 150,
   "metadata": {},
   "outputs": [
    {
     "name": "stdout",
     "output_type": "stream",
     "text": [
      "['connor', 'bob', 'evan', 'max', 2, 3, 4, 'kevin']\n"
     ]
    }
   ],
   "source": [
    "names = ['connor', 'connor', 'bob', 'connor', 'evan', 'max', 'evan', 2, 2, 2, 3, 3, 4, 'bob', 'kevin']\n",
    "# Hint 1: You will need an append\n",
    "# Hint 2: Using an empty list will make life easier\n",
    "norepeat = []\n",
    "for name in names:\n",
    "    if name not in norepeat:\n",
    "        norepeat.append(name)\n",
    "print(norepeat)\n",
    "        \n",
    "\n",
    "\n",
    "\n",
    "\n"
   ]
  },
  {
   "cell_type": "markdown",
   "metadata": {},
   "source": [
    "### List Comprehensions <br>\n",
    "<p>Creating a quickly generated list to work with<br>*result*  = [*transform*    *iteration*         *filter*     ]</p>"
   ]
  },
  {
   "cell_type": "markdown",
   "metadata": {},
   "source": [
    "##### In a list comprehension we have a few pieces:\n",
    "1. The first is the counter/ variable - IN this the variable is x\n",
    "2. then we have a transform for the variable\n",
    "3. The finale part of a list comp is called the condition\n",
    "\n",
    "```python\n",
    "    [transform, iteration/variable, condition]\n",
    "```"
   ]
  },
  {
   "cell_type": "code",
   "execution_count": 3,
   "metadata": {},
   "outputs": [
    {
     "name": "stdout",
     "output_type": "stream",
     "text": [
      "[4, 16, 36, 64, 100]\n",
      "[4, 16, 36, 64, 100]\n"
     ]
    }
   ],
   "source": [
    "# square every even number\n",
    "nums = [2, 4, 5, 6, 7, 8, 9, 10]\n",
    "nums_squared = [x**2 for x in nums if x%2 == 0] \n",
    "print(nums_squared)\n",
    "\n",
    "squared_nums = []\n",
    "for x in nums:\n",
    "    if x%2 ==0:\n",
    "        squared_nums.append(x**2)\n",
    "print(squared_nums)\n",
    "\n"
   ]
  },
  {
   "cell_type": "markdown",
   "metadata": {},
   "source": [
    "There are a few benefits to using List comprehensions. The most obvious would be that we now have shorter code to work with instead of using 3+ lines of code in the for loop variant.\n",
    "\n",
    "Another is an added benefit to memory usage. Since the list's memory is allocated first before adding elements to it, we don't have to resize the list once we add elements to it.\n",
    "\n",
    "Lastly, list comprehensions are considered the \"pythonic\" way to write code by the PEP8 standards (Python Style Guide)"
   ]
  },
  {
   "cell_type": "markdown",
   "metadata": {},
   "source": [
    "### Tuples <br>\n",
    "<p><b>Defined as an immutable list</b></p><br>Seperated by commas using parenthesis"
   ]
  },
  {
   "cell_type": "code",
   "execution_count": 8,
   "metadata": {},
   "outputs": [
    {
     "name": "stdout",
     "output_type": "stream",
     "text": [
      "(4, 5, 6)\n",
      "<class 'tuple'>\n",
      "tuple_lenght 3\n",
      "4\n",
      "5\n",
      "6\n",
      "1\n",
      "2\n",
      "3\n"
     ]
    }
   ],
   "source": [
    "tup_1 = (1, 2, 3) # one way to create tuple, items separeted by commas in paretheses\n",
    "tup_2 = 4, 5, 6 # another just items separated by commas\n",
    "print(tup_2)\n",
    "\n",
    "print(type(tup_1))\n",
    "\n",
    "print(\"tuple_lenght\", len(tup_2))\n",
    "\n",
    "for num in tup_2:\n",
    "    print(num)\n",
    "\n",
    "for i in range(len(tup_1)):\n",
    "    print(tup_1[i])"
   ]
  },
  {
   "cell_type": "markdown",
   "metadata": {},
   "source": [
    "##### sorted()"
   ]
  },
  {
   "cell_type": "code",
   "execution_count": 12,
   "metadata": {},
   "outputs": [
    {
     "name": "stdout",
     "output_type": "stream",
     "text": [
      "[1, 5, 10, 20, 95, 123]\n",
      "[5, 12, 23, 76, 234, 654]\n",
      "(1, 5, 10, 20, 95, 123)\n"
     ]
    }
   ],
   "source": [
    "tup = (20, 5, 1, 10, 95, 123)\n",
    "sorted_tup_list = sorted(tup)\n",
    "print(sorted_tup_list)\n",
    "\n",
    "some_list = [5, 12, 654, 234, 76, 23]\n",
    "sorted_list = sorted(some_list)\n",
    "print(sorted_list)\n",
    "\n",
    "new_tup = tuple(sorted_tup_list)\n",
    "print(new_tup)\n",
    "\n",
    "new_new_tup = new_tup + sorted_list"
   ]
  },
  {
   "cell_type": "markdown",
   "metadata": {},
   "source": [
    "##### Adding values to a Tuple"
   ]
  },
  {
   "cell_type": "code",
   "execution_count": 14,
   "metadata": {},
   "outputs": [
    {
     "name": "stdout",
     "output_type": "stream",
     "text": [
      "(20, 5, 1, 10, 95, 123)\n",
      "(20, 5, 1, 10, 95, 123, 6)\n"
     ]
    }
   ],
   "source": [
    "tup = (20, 5, 1, 10, 95, 123)\n",
    "print(tup)\n",
    "\n",
    "tup = tup + (6,)\n",
    "print(tup)"
   ]
  },
  {
   "cell_type": "markdown",
   "metadata": {},
   "source": [
    "# Exercises"
   ]
  },
  {
   "cell_type": "markdown",
   "metadata": {},
   "source": [
    "## Exercise 1 <br>\n",
    "<p>Using the given list, print out a filtered version of the list with only the numbers that are less than ten</b></i></p><br>\n"
   ]
  },
  {
   "cell_type": "code",
   "execution_count": 15,
   "metadata": {},
   "outputs": [
    {
     "name": "stdout",
     "output_type": "stream",
     "text": [
      "[1, 5, 8, 9]\n"
     ]
    }
   ],
   "source": [
    "alist = [1,11,14,5,8,9]\n",
    "\n",
    "listfilter = [num for num in alist if num < 10]\n",
    "print(listfilter)\n",
    "\n",
    "\n",
    "\n"
   ]
  },
  {
   "cell_type": "markdown",
   "metadata": {},
   "source": [
    "## Exercise 2 <br>\n",
    "<p>Merge and sort the two lists below<br>\n",
    "<b><i>Hint: You can use the .sort() method</i></b></p>"
   ]
  },
  {
   "cell_type": "code",
   "execution_count": 17,
   "metadata": {},
   "outputs": [
    {
     "name": "stdout",
     "output_type": "stream",
     "text": [
      "[1, 2, 3, 3, 4, 4, 5, 5, 6, 6, 7, 8, 10]\n"
     ]
    }
   ],
   "source": [
    "l_1 = [1,2,3,4,5,6]\n",
    "l_2 = [3,4,5,6,7,8,10]\n",
    "\n",
    "mergedlist = l_1 + l_2\n",
    "mergedlist.sort()\n",
    "print(mergedlist)\n",
    "\n",
    "\n"
   ]
  },
  {
   "cell_type": "markdown",
   "metadata": {},
   "source": [
    "## Exercise 3 <br>\n",
    "<p>Square every number from 1 to 15<br>\n"
   ]
  },
  {
   "cell_type": "code",
   "execution_count": 20,
   "metadata": {},
   "outputs": [
    {
     "name": "stdout",
     "output_type": "stream",
     "text": [
      "[1, 4, 9, 16, 25, 36, 49, 64, 81, 100, 121, 144, 169, 196, 225]\n"
     ]
    }
   ],
   "source": [
    "num = [1, 2, 3, 4, 5, 6, 7, 8, 9, 10, 11, 12, 13, 14, 15]\n",
    "square_num = [num ** 2 for  num in range(1, 16)]\n",
    "print(square_num)"
   ]
  },
  {
   "cell_type": "markdown",
   "metadata": {},
   "source": [
    "## Exercise 4<br>\n",
    "<p>Using List Comprehension and the given list, print out a filtered list with \n",
    "only the names that start with the letter 'a'. \n",
    "The names in the outputted list should be title cased and have no whitespace.<br>\n",
    "<p>Hint: There is an empty string at the end of the list you will need to account for.\n"
   ]
  },
  {
   "cell_type": "code",
   "execution_count": 23,
   "metadata": {},
   "outputs": [
    {
     "name": "stdout",
     "output_type": "stream",
     "text": [
      "['Amy', 'Alex']\n"
     ]
    }
   ],
   "source": [
    "names_list = ['   amy', 'Briant', 'Ryan ', ' Alex', 'steve', '  ']\n",
    "#expected output = ['Amy', 'Alex']\n",
    "filtered_names = [name.strip().title() for name in names_list if name.strip().lower().startswith('a')]\n",
    "\n",
    "print(filtered_names)"
   ]
  },
  {
   "cell_type": "markdown",
   "metadata": {},
   "source": [
    "## Exercise 5 <br>\n",
    "<p>Print all Prime numbers from 1 to 100<br>\n",
    "<p>Hint: A Prime # is any # that is ONLY divisible by 1 and itself. So think how you can iterate through the list of #s from 1 to 100 and check to see if its divisible by ANY # below it.\n",
    "<p>The For/Each might be very helpful for this question. \n",
    "https://www.geeksforgeeks.org/using-else-conditional-statement-with-for-loop-in-python/\n"
   ]
  },
  {
   "cell_type": "code",
   "execution_count": null,
   "metadata": {},
   "outputs": [],
   "source": []
  }
 ],
 "metadata": {
  "kernelspec": {
   "display_name": "Python 3 (ipykernel)",
   "language": "python",
   "name": "python3"
  },
  "language_info": {
   "codemirror_mode": {
    "name": "ipython",
    "version": 3
   },
   "file_extension": ".py",
   "mimetype": "text/x-python",
   "name": "python",
   "nbconvert_exporter": "python",
   "pygments_lexer": "ipython3",
   "version": "3.12.1"
  }
 },
 "nbformat": 4,
 "nbformat_minor": 4
}
